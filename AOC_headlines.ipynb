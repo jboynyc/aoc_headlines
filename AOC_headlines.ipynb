{
 "cells": [
  {
   "cell_type": "code",
   "execution_count": 1,
   "metadata": {},
   "outputs": [
    {
     "name": "stdout",
     "output_type": "stream",
     "text": [
      "Populating the interactive namespace from numpy and matplotlib\n"
     ]
    }
   ],
   "source": [
    "%pylab inline"
   ]
  },
  {
   "cell_type": "code",
   "execution_count": 285,
   "metadata": {},
   "outputs": [],
   "source": [
    "import os\n",
    "import datetime\n",
    "import requests\n",
    "import pandas as pd\n",
    "from glob import glob\n",
    "from bs4 import BeautifulSoup as bs"
   ]
  },
  {
   "cell_type": "code",
   "execution_count": 18,
   "metadata": {},
   "outputs": [],
   "source": [
    "def dt(isodate):\n",
    "    'Helper function to turn ISO date string into datetime object.'\n",
    "    return datetime.datetime.strptime(isodate, '%Y-%m-%d')"
   ]
  },
  {
   "cell_type": "code",
   "execution_count": 93,
   "metadata": {},
   "outputs": [],
   "source": [
    "def memeorandum_clusters(date, time='1200'):\n",
    "    'Get clusters of Memeorandum news stories for a date (default is noon EST).'\n",
    "    _url = 'https://www.memeorandum.com/{}/h{}'\n",
    "    lnk = _url.format(date.strftime('%y%m%d'), time)\n",
    "    r = requests.get(lnk)\n",
    "    r.raise_for_status()\n",
    "    s = bs(r.text)\n",
    "    return s.find('div', {'class': 'nornbody'}).findAll('div', {'class': 'clus'})"
   ]
  },
  {
   "cell_type": "code",
   "execution_count": 131,
   "metadata": {},
   "outputs": [],
   "source": [
    "def cluster_lead_data(clus):\n",
    "    'Get data for the lead story in a cluster.'\n",
    "    lead_headline = clus.find('div', {'class': 'ii'}).find('strong').text\n",
    "    lead_link = clus.find('div', {'class': 'ii'}).find('strong').find('a')['href']\n",
    "    lead_author = clus.find('cite').text.split('/')[0].strip().strip(':')\n",
    "    lead_pub = clus.find('cite').find('a').text\n",
    "    return lead_author, lead_pub, lead_headline, lead_link"
   ]
  },
  {
   "cell_type": "code",
   "execution_count": 168,
   "metadata": {},
   "outputs": [],
   "source": [
    "def df_for_date(date):\n",
    "    'Generate a data frame of lead news stories for specified date.'\n",
    "    data = map(cluster_lead_data, memeorandum_clusters(date))\n",
    "    df = pd.DataFrame(list(data), columns=['author', 'publication', 'headline', 'url'])\n",
    "    df = df.reset_index().rename(columns={'index': 'rank'})\n",
    "    df['rank'] = df['rank'] + 1\n",
    "    df['date'] = date\n",
    "    return df"
   ]
  },
  {
   "cell_type": "code",
   "execution_count": 289,
   "metadata": {
    "scrolled": true
   },
   "outputs": [],
   "source": [
    "for date in pd.date_range('2018-06-19', '2019-01-21'):\n",
    "    outfile = 'data/{}.csv'.format(date.date().isoformat())\n",
    "    if not os.path.exists(outfile):\n",
    "        df_for_date(date).to_csv(outfile, encoding='utf8')"
   ]
  },
  {
   "cell_type": "code",
   "execution_count": 303,
   "metadata": {},
   "outputs": [],
   "source": [
    "all_data = pd.concat(pd.read_csv(f, index_col=0, parse_dates=['date']) for f in glob('data/*.csv'))"
   ]
  },
  {
   "cell_type": "code",
   "execution_count": 304,
   "metadata": {},
   "outputs": [],
   "source": [
    "lead_stories = all_data[all_data['rank'] <= 10]"
   ]
  },
  {
   "cell_type": "code",
   "execution_count": 305,
   "metadata": {},
   "outputs": [],
   "source": [
    "lead_stories = lead_stories.set_index('date')"
   ]
  },
  {
   "cell_type": "code",
   "execution_count": 306,
   "metadata": {},
   "outputs": [],
   "source": [
    "lead_stories['aoc'] = lead_stories.headline.str.lower().str.contains('ocasio-cortez')"
   ]
  },
  {
   "cell_type": "code",
   "execution_count": 307,
   "metadata": {},
   "outputs": [
    {
     "data": {
      "text/plain": [
       "False    2131\n",
       "True       15\n",
       "Name: aoc, dtype: int64"
      ]
     },
     "execution_count": 307,
     "metadata": {},
     "output_type": "execute_result"
    }
   ],
   "source": [
    "lead_stories['aoc'].value_counts()"
   ]
  },
  {
   "cell_type": "code",
   "execution_count": 309,
   "metadata": {},
   "outputs": [
    {
     "data": {
      "text/html": [
       "<div>\n",
       "<style scoped>\n",
       "    .dataframe tbody tr th:only-of-type {\n",
       "        vertical-align: middle;\n",
       "    }\n",
       "\n",
       "    .dataframe tbody tr th {\n",
       "        vertical-align: top;\n",
       "    }\n",
       "\n",
       "    .dataframe thead th {\n",
       "        text-align: right;\n",
       "    }\n",
       "</style>\n",
       "<table border=\"1\" class=\"dataframe\">\n",
       "  <thead>\n",
       "    <tr style=\"text-align: right;\">\n",
       "      <th></th>\n",
       "      <th>rank</th>\n",
       "      <th>author</th>\n",
       "      <th>publication</th>\n",
       "      <th>headline</th>\n",
       "      <th>url</th>\n",
       "      <th>aoc</th>\n",
       "    </tr>\n",
       "    <tr>\n",
       "      <th>date</th>\n",
       "      <th></th>\n",
       "      <th></th>\n",
       "      <th></th>\n",
       "      <th></th>\n",
       "      <th></th>\n",
       "      <th></th>\n",
       "    </tr>\n",
       "  </thead>\n",
       "  <tbody>\n",
       "    <tr>\n",
       "      <th>2018-06-27</th>\n",
       "      <td>1</td>\n",
       "      <td>Vivian Wang</td>\n",
       "      <td>New York Times</td>\n",
       "      <td>Who Is Alexandria Ocasio-Cortez?  A 28-Year-Ol...</td>\n",
       "      <td>http://www.nytimes.com/2018/06/27/nyregion/ale...</td>\n",
       "      <td>True</td>\n",
       "    </tr>\n",
       "    <tr>\n",
       "      <th>2018-07-11</th>\n",
       "      <td>2</td>\n",
       "      <td>Kenneth Lovett</td>\n",
       "      <td>New York Daily News</td>\n",
       "      <td>EXCLUSIVE: Ocasio-Cortez with another surprise...</td>\n",
       "      <td>http://www.nydailynews.com/news/politics/ny-po...</td>\n",
       "      <td>True</td>\n",
       "    </tr>\n",
       "    <tr>\n",
       "      <th>2018-07-12</th>\n",
       "      <td>9</td>\n",
       "      <td>Lisa W. Foderaro</td>\n",
       "      <td>New York Times</td>\n",
       "      <td>Ocasio-Cortez Highlights How Third-Party Quirk...</td>\n",
       "      <td>http://www.nytimes.com/2018/07/11/nyregion/oca...</td>\n",
       "      <td>True</td>\n",
       "    </tr>\n",
       "    <tr>\n",
       "      <th>2018-07-16</th>\n",
       "      <td>10</td>\n",
       "      <td>Ryan Grim</td>\n",
       "      <td>The Intercept</td>\n",
       "      <td>Ocasio-Cortez Floats a “Sub-Caucus” of Progres...</td>\n",
       "      <td>http://theintercept.com/2018/07/16/ocasio-cort...</td>\n",
       "      <td>True</td>\n",
       "    </tr>\n",
       "    <tr>\n",
       "      <th>2018-08-02</th>\n",
       "      <td>5</td>\n",
       "      <td>Hollywood Reporter</td>\n",
       "      <td>Hollywood Reporter</td>\n",
       "      <td>Is Alexandria Ocasio-Cortez Too Far Left for H...</td>\n",
       "      <td>http://www.hollywoodreporter.com/news/is-alexa...</td>\n",
       "      <td>True</td>\n",
       "    </tr>\n",
       "    <tr>\n",
       "      <th>2018-08-17</th>\n",
       "      <td>4</td>\n",
       "      <td>Christopher Barca</td>\n",
       "      <td>m.qchron.com</td>\n",
       "      <td>Ocasio-Cortez bans press from town hall</td>\n",
       "      <td>http://m.qchron.com/mobile/editions/queenswide...</td>\n",
       "      <td>True</td>\n",
       "    </tr>\n",
       "    <tr>\n",
       "      <th>2018-12-12</th>\n",
       "      <td>9</td>\n",
       "      <td>Matthew Yglesias</td>\n",
       "      <td>Vox</td>\n",
       "      <td>It's ridiculous that it's unconstitutional for...</td>\n",
       "      <td>http://www.vox.com/2018/12/12/18134945/alexand...</td>\n",
       "      <td>True</td>\n",
       "    </tr>\n",
       "    <tr>\n",
       "      <th>2018-12-18</th>\n",
       "      <td>9</td>\n",
       "      <td>Laura Barrón-López</td>\n",
       "      <td>Politico</td>\n",
       "      <td>Ocasio-Cortez weighs a new primary target: Hak...</td>\n",
       "      <td>http://www.politico.com/story/2018/12/18/ocasi...</td>\n",
       "      <td>True</td>\n",
       "    </tr>\n",
       "    <tr>\n",
       "      <th>2018-12-29</th>\n",
       "      <td>10</td>\n",
       "      <td>Chris Buskirk</td>\n",
       "      <td>American Greatness</td>\n",
       "      <td>It's Not That Alexandria Ocasio-Cortez Knows N...</td>\n",
       "      <td>http://amgreatness.com/2018/12/28/its-not-that...</td>\n",
       "      <td>True</td>\n",
       "    </tr>\n",
       "    <tr>\n",
       "      <th>2019-01-04</th>\n",
       "      <td>2</td>\n",
       "      <td>Colby Hall</td>\n",
       "      <td>Mediaite</td>\n",
       "      <td>Alexandria Ocasio-Cortez Suggests Super Wealth...</td>\n",
       "      <td>http://www.mediaite.com/tv/alexandria-ocasio-c...</td>\n",
       "      <td>True</td>\n",
       "    </tr>\n",
       "    <tr>\n",
       "      <th>2019-01-05</th>\n",
       "      <td>4</td>\n",
       "      <td>Jeff Stein</td>\n",
       "      <td>Washington Post</td>\n",
       "      <td>Ocasio-Cortez wants higher taxes on very rich ...</td>\n",
       "      <td>http://www.washingtonpost.com/business/2019/01...</td>\n",
       "      <td>True</td>\n",
       "    </tr>\n",
       "    <tr>\n",
       "      <th>2019-01-07</th>\n",
       "      <td>1</td>\n",
       "      <td>Jim Hoft</td>\n",
       "      <td>The Gateway Pundit</td>\n",
       "      <td>EXCLUSIVE: Yorktown Elitist and Bronx Hoaxer A...</td>\n",
       "      <td>http://www.thegatewaypundit.com/2019/01/exclus...</td>\n",
       "      <td>True</td>\n",
       "    </tr>\n",
       "    <tr>\n",
       "      <th>2019-01-11</th>\n",
       "      <td>1</td>\n",
       "      <td>Heather Caygle</td>\n",
       "      <td>Politico</td>\n",
       "      <td>Exasperated Democrats try to rein in Ocasio-Co...</td>\n",
       "      <td>http://www.politico.com/story/2019/01/11/alexa...</td>\n",
       "      <td>True</td>\n",
       "    </tr>\n",
       "    <tr>\n",
       "      <th>2019-01-13</th>\n",
       "      <td>4</td>\n",
       "      <td>Neal Rothschild</td>\n",
       "      <td>Axios</td>\n",
       "      <td>Ocasio-Cortez is driving more Twitter conversa...</td>\n",
       "      <td>http://www.axios.com/ocasio-cortez-dominates-t...</td>\n",
       "      <td>True</td>\n",
       "    </tr>\n",
       "    <tr>\n",
       "      <th>2019-01-14</th>\n",
       "      <td>9</td>\n",
       "      <td>Michael Knowles</td>\n",
       "      <td>Fox News</td>\n",
       "      <td>Alexandria Ocasio-Cortez, the voice of an igno...</td>\n",
       "      <td>http://www.foxnews.com/opinion/alexandria-ocas...</td>\n",
       "      <td>True</td>\n",
       "    </tr>\n",
       "  </tbody>\n",
       "</table>\n",
       "</div>"
      ],
      "text/plain": [
       "            rank              author          publication  \\\n",
       "date                                                        \n",
       "2018-06-27     1         Vivian Wang       New York Times   \n",
       "2018-07-11     2      Kenneth Lovett  New York Daily News   \n",
       "2018-07-12     9    Lisa W. Foderaro       New York Times   \n",
       "2018-07-16    10           Ryan Grim        The Intercept   \n",
       "2018-08-02     5  Hollywood Reporter   Hollywood Reporter   \n",
       "2018-08-17     4   Christopher Barca         m.qchron.com   \n",
       "2018-12-12     9    Matthew Yglesias                  Vox   \n",
       "2018-12-18     9  Laura Barrón-López             Politico   \n",
       "2018-12-29    10       Chris Buskirk   American Greatness   \n",
       "2019-01-04     2          Colby Hall             Mediaite   \n",
       "2019-01-05     4          Jeff Stein      Washington Post   \n",
       "2019-01-07     1            Jim Hoft   The Gateway Pundit   \n",
       "2019-01-11     1      Heather Caygle             Politico   \n",
       "2019-01-13     4     Neal Rothschild                Axios   \n",
       "2019-01-14     9     Michael Knowles             Fox News   \n",
       "\n",
       "                                                     headline  \\\n",
       "date                                                            \n",
       "2018-06-27  Who Is Alexandria Ocasio-Cortez?  A 28-Year-Ol...   \n",
       "2018-07-11  EXCLUSIVE: Ocasio-Cortez with another surprise...   \n",
       "2018-07-12  Ocasio-Cortez Highlights How Third-Party Quirk...   \n",
       "2018-07-16  Ocasio-Cortez Floats a “Sub-Caucus” of Progres...   \n",
       "2018-08-02  Is Alexandria Ocasio-Cortez Too Far Left for H...   \n",
       "2018-08-17            Ocasio-Cortez bans press from town hall   \n",
       "2018-12-12  It's ridiculous that it's unconstitutional for...   \n",
       "2018-12-18  Ocasio-Cortez weighs a new primary target: Hak...   \n",
       "2018-12-29  It's Not That Alexandria Ocasio-Cortez Knows N...   \n",
       "2019-01-04  Alexandria Ocasio-Cortez Suggests Super Wealth...   \n",
       "2019-01-05  Ocasio-Cortez wants higher taxes on very rich ...   \n",
       "2019-01-07  EXCLUSIVE: Yorktown Elitist and Bronx Hoaxer A...   \n",
       "2019-01-11  Exasperated Democrats try to rein in Ocasio-Co...   \n",
       "2019-01-13  Ocasio-Cortez is driving more Twitter conversa...   \n",
       "2019-01-14  Alexandria Ocasio-Cortez, the voice of an igno...   \n",
       "\n",
       "                                                          url   aoc  \n",
       "date                                                                 \n",
       "2018-06-27  http://www.nytimes.com/2018/06/27/nyregion/ale...  True  \n",
       "2018-07-11  http://www.nydailynews.com/news/politics/ny-po...  True  \n",
       "2018-07-12  http://www.nytimes.com/2018/07/11/nyregion/oca...  True  \n",
       "2018-07-16  http://theintercept.com/2018/07/16/ocasio-cort...  True  \n",
       "2018-08-02  http://www.hollywoodreporter.com/news/is-alexa...  True  \n",
       "2018-08-17  http://m.qchron.com/mobile/editions/queenswide...  True  \n",
       "2018-12-12  http://www.vox.com/2018/12/12/18134945/alexand...  True  \n",
       "2018-12-18  http://www.politico.com/story/2018/12/18/ocasi...  True  \n",
       "2018-12-29  http://amgreatness.com/2018/12/28/its-not-that...  True  \n",
       "2019-01-04  http://www.mediaite.com/tv/alexandria-ocasio-c...  True  \n",
       "2019-01-05  http://www.washingtonpost.com/business/2019/01...  True  \n",
       "2019-01-07  http://www.thegatewaypundit.com/2019/01/exclus...  True  \n",
       "2019-01-11  http://www.politico.com/story/2019/01/11/alexa...  True  \n",
       "2019-01-13  http://www.axios.com/ocasio-cortez-dominates-t...  True  \n",
       "2019-01-14  http://www.foxnews.com/opinion/alexandria-ocas...  True  "
      ]
     },
     "execution_count": 309,
     "metadata": {},
     "output_type": "execute_result"
    }
   ],
   "source": [
    "lead_stories[lead_stories['aoc']]"
   ]
  },
  {
   "cell_type": "code",
   "execution_count": 308,
   "metadata": {},
   "outputs": [
    {
     "name": "stderr",
     "output_type": "stream",
     "text": [
      "/nix/store/hkgmx5kr4m0zbkyglnvyy13csws5x39l-python3.6-ipykernel-4.8.2/lib/python3.6/site-packages/ipykernel_launcher.py:1: DeprecationWarning: Calling np.sum(generator) is deprecated, and in the future will give a different result. Use np.sum(np.from_iter(generator)) or the python sum builtin instead.\n",
      "  \"\"\"Entry point for launching an IPython kernel.\n"
     ]
    },
    {
     "data": {
      "text/plain": [
       "<matplotlib.axes._subplots.AxesSubplot at 0x7fd52d839f60>"
      ]
     },
     "execution_count": 308,
     "metadata": {},
     "output_type": "execute_result"
    },
    {
     "data": {
      "image/png": "[encoded data removed]",
      "text/plain": [
       "<Figure size 432x288 with 1 Axes>"
      ]
     },
     "metadata": {},
     "output_type": "display_data"
    }
   ],
   "source": [
    "lead_stories.resample('W').agg({'aoc': lambda x: sum(1 if i else 0 for i in x)}).plot(ylim=(0,4));"
   ]
  },
  {
   "cell_type": "code",
   "execution_count": null,
   "metadata": {},
   "outputs": [],
   "source": []
  }
 ],
 "metadata": {
  "kernelspec": {
   "display_name": "Python 3",
   "language": "python",
   "name": "python3"
  },
  "language_info": {
   "codemirror_mode": {
    "name": "ipython",
    "version": 3
   },
   "file_extension": ".py",
   "mimetype": "text/x-python",
   "name": "python",
   "nbconvert_exporter": "python",
   "pygments_lexer": "ipython3",
   "version": "3.6.7"
  }
 },
 "nbformat": 4,
 "nbformat_minor": 2
}
